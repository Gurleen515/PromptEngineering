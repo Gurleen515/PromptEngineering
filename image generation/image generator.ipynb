{
 "cells": [
  {
   "cell_type": "code",
   "execution_count": 1,
   "id": "1173f562",
   "metadata": {},
   "outputs": [
    {
     "name": "stdout",
     "output_type": "stream",
     "text": [
      "Generating image for: mountains\n",
      "Error: {'errors': ['You lack sufficient credits to make this request.  Please purchase more credits at https://platform.stability.ai/account/credits and try again.'], 'id': '1688040c018bdfe619d6ca8b2cf42f71', 'name': 'payment_required'}\n"
     ]
    }
   ],
   "source": [
    "import requests\n",
    "\n",
    "# Your Stability API Key\n",
    "API_KEY = \"sk-0MrGz8nitmVBBUFQeEkwQ6AYsdNIgGhfKyfMqeQKOJ3o7K7D\"\n",
    "\n",
    "def generate_image(prompt: str, output_path=\"generated_image.webp\"):\n",
    "    url = \"https://api.stability.ai/v2beta/stable-image/generate/ultra\"\n",
    "\n",
    "    headers = {\n",
    "        \"authorization\": f\"Bearer {API_KEY}\",\n",
    "        \"accept\": \"image/*\"\n",
    "    }\n",
    "\n",
    "    data = {\n",
    "        \"prompt\": prompt,\n",
    "        \"output_format\": \"webp\"  # You can also use \"png\", \"jpeg\"\n",
    "    }\n",
    "\n",
    "    print(f\"Generating image for: {prompt}\")\n",
    "    response = requests.post(url, headers=headers, files={\"none\": ''}, data=data)\n",
    "\n",
    "    if response.status_code == 200:\n",
    "        with open(output_path, 'wb') as file:\n",
    "            file.write(response.content)\n",
    "        print(f\"Image saved as {output_path}\")\n",
    "    else:\n",
    "        try:\n",
    "            print(\"Error:\", response.json())\n",
    "        except:\n",
    "            print(\"Unknown error occurred.\")\n",
    "\n",
    "# Example usage\n",
    "if __name__ == \"__main__\":\n",
    "    prompt = input(\"Enter your image prompt: \")\n",
    "    generate_image(prompt)"
   ]
  }
 ],
 "metadata": {
  "kernelspec": {
   "display_name": "Python 3",
   "language": "python",
   "name": "python3"
  },
  "language_info": {
   "codemirror_mode": {
    "name": "ipython",
    "version": 3
   },
   "file_extension": ".py",
   "mimetype": "text/x-python",
   "name": "python",
   "nbconvert_exporter": "python",
   "pygments_lexer": "ipython3",
   "version": "3.13.2"
  }
 },
 "nbformat": 4,
 "nbformat_minor": 5
}
