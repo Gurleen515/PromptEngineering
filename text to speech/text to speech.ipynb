{
 "cells": [
  {
   "cell_type": "code",
   "execution_count": 1,
   "id": "f8b3d532",
   "metadata": {},
   "outputs": [
    {
     "name": "stdout",
     "output_type": "stream",
     "text": [
      "\n",
      "📝 Text entered:\n",
      "hey! how are you?\n",
      "\n",
      "✅ Audio saved successfully at: tts_outputs\\speech_9381c3c2.mp3\n"
     ]
    }
   ],
   "source": [
    "import requests\n",
    "import os\n",
    "import uuid\n",
    "\n",
    "# API Key and Voice ID\n",
    "API_KEY = \"sk_feddae6ee11d35e63994407e1b826ece3d785ff0bb62d1b2\"\n",
    "VOICE_ID = \"EXAVITQu4vr4xnSDxMaL\"  # Rachel voice\n",
    "\n",
    "# Output folder\n",
    "OUTPUT_DIR = \"tts_outputs\"\n",
    "os.makedirs(OUTPUT_DIR, exist_ok=True)\n",
    "\n",
    "def text_to_speech(text):\n",
    "    print(\"\\n📝 Text entered:\\n\" + text)\n",
    "\n",
    "    response = requests.post(\n",
    "        f\"https://api.elevenlabs.io/v1/text-to-speech/{VOICE_ID}\",\n",
    "        headers={\n",
    "            \"xi-api-key\": API_KEY,\n",
    "            \"Content-Type\": \"application/json\",\n",
    "        },\n",
    "        json={\n",
    "            \"text\": text,\n",
    "            \"model_id\": \"eleven_monolingual_v1\",\n",
    "            \"voice_settings\": {\n",
    "                \"stability\": 0.5,\n",
    "                \"similarity_boost\": 0.5\n",
    "            }\n",
    "        }\n",
    "    )\n",
    "\n",
    "    if response.status_code == 200:\n",
    "        filename = os.path.join(OUTPUT_DIR, f\"speech_{uuid.uuid4().hex[:8]}.mp3\")\n",
    "        with open(filename, \"wb\") as f:\n",
    "            f.write(response.content)\n",
    "        print(f\"\\n✅ Audio saved successfully at: {filename}\")\n",
    "    else:\n",
    "        print(f\"\\n❌ Error: {response.status_code} - {response.text}\")\n",
    "\n",
    "# --- Main Program ---\n",
    "\n",
    "user_text = input(\"🔊 Enter text to convert to speech:\\n> \").strip()\n",
    "\n",
    "if user_text:\n",
    "    text_to_speech(user_text)\n",
    "else:\n",
    "    print(\"⚠️  No text entered. Exiting.\")"
   ]
  }
 ],
 "metadata": {
  "kernelspec": {
   "display_name": "Python 3",
   "language": "python",
   "name": "python3"
  },
  "language_info": {
   "codemirror_mode": {
    "name": "ipython",
    "version": 3
   },
   "file_extension": ".py",
   "mimetype": "text/x-python",
   "name": "python",
   "nbconvert_exporter": "python",
   "pygments_lexer": "ipython3",
   "version": "3.13.2"
  }
 },
 "nbformat": 4,
 "nbformat_minor": 5
}
