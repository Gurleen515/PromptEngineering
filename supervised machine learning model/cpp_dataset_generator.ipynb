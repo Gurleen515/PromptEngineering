{
 "cells": [
  {
   "cell_type": "code",
   "execution_count": 1,
   "id": "3eafb1e4",
   "metadata": {},
   "outputs": [
    {
     "name": "stdout",
     "output_type": "stream",
     "text": [
      "✅ Dataset saved as cpp_data.jsonl\n"
     ]
    }
   ],
   "source": [
    "import pandas as pd\n",
    "import json\n",
    "\n",
    "# Step 1: Create your dataset (can expand this manually or auto-load)\n",
    "data = [\n",
    "    {\n",
    "        \"prompt\": \"Write a C++ function to add two numbers.\",\n",
    "        \"completion\": \"#include<iostream>\\nusing namespace std;\\nint add(int a, int b) {\\n    return a + b;\\n}\"\n",
    "    },\n",
    "    {\n",
    "        \"prompt\": \"Write a C++ program to check if a number is even.\",\n",
    "        \"completion\": \"#include<iostream>\\nusing namespace std;\\nint main() {\\n    int n;\\n    cin >> n;\\n    if (n % 2 == 0) cout << \\\"Even\\\";\\n    else cout << \\\"Odd\\\";\\n    return 0;\\n}\"\n",
    "    }\n",
    "]\n",
    "\n",
    "# Save to CSV\n",
    "df = pd.DataFrame(data)\n",
    "df.to_csv(\"cpp_dataset.csv\", index=False)\n",
    "\n",
    "# Step 2: Save as JSONL\n",
    "def save_jsonl(df, filename):\n",
    "    with open(filename, \"w\") as f:\n",
    "        for _, row in df.iterrows():\n",
    "            entry = {\n",
    "                \"messages\": [\n",
    "                    {\"role\": \"user\", \"content\": row['prompt']},\n",
    "                    {\"role\": \"assistant\", \"content\": row['completion']}\n",
    "                ]\n",
    "            }\n",
    "            f.write(json.dumps(entry) + \"\\n\")\n",
    "\n",
    "save_jsonl(df, \"cpp_data.jsonl\")\n",
    "print(\"✅ Dataset saved as cpp_data.jsonl\")"
   ]
  }
 ],
 "metadata": {
  "kernelspec": {
   "display_name": "Python 3",
   "language": "python",
   "name": "python3"
  },
  "language_info": {
   "codemirror_mode": {
    "name": "ipython",
    "version": 3
   },
   "file_extension": ".py",
   "mimetype": "text/x-python",
   "name": "python",
   "nbconvert_exporter": "python",
   "pygments_lexer": "ipython3",
   "version": "3.13.2"
  }
 },
 "nbformat": 4,
 "nbformat_minor": 5
}
